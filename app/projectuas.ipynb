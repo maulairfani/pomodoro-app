{
 "cells": [
  {
   "cell_type": "code",
   "execution_count": 249,
   "id": "a3d3a77b",
   "metadata": {},
   "outputs": [
    {
     "name": "stdout",
     "output_type": "stream",
     "text": [
      "Overwriting pomodoro.py\n"
     ]
    }
   ],
   "source": [
    "%%writefile pomodoro.py\n",
    "import streamlit as st\n",
    "import time\n",
    "\n",
    "st.title('Pomodoro App ⏳')\n",
    "\n",
    "#-------------------#\n",
    "side = st.sidebar\n",
    "side.subheader('Sesuaikan pomodoro senyamanmu')\n",
    "form = side.form('data_pomodoro')\n",
    "tugas = form.text_input('Tugas')\n",
    "t1 = form.number_input('Waktu Fokus (menit)', min_value=0, max_value=120)\n",
    "# pengulangan = form.slider('Pengulangan', min_value=1, max_value=5)\n",
    "t2 = form.number_input('Waktu Istirahat (menit)', min_value=0, max_value=25)\n",
    "# istirahat_panjang = form.number_input('Waktu Istirahat Pendek (menit)', min_value=10, max_value=60)\n",
    "pilihan_musik = ['Lo-fi Jazz', 'Lo-fi Cool']\n",
    "musik = form.radio('Musik', options=pilihan_musik)\n",
    "\n",
    "mulai = form.form_submit_button('Mulai !')\n",
    "\n",
    "#-------------------#\n",
    "\n",
    "t1 *= 60\n",
    "t2 *= 60\n",
    "\n",
    "def timer(t1, t2):\n",
    "    with st.empty():\n",
    "        while t1:\n",
    "            mins, secs = divmod(t1, 60)\n",
    "            timer = '{:02d}:{:02d}'.format(mins, secs)\n",
    "            st.subheader(f\"⏳ Waktu tersisa *{timer}* \")\n",
    "            time.sleep(1)\n",
    "            t1 -= 1\n",
    "            st.success(\"🔔 Waktu fokus selesai! Anda dapat istirahat sejenak\")\n",
    "\n",
    "    with st.empty():\n",
    "        while t2:\n",
    "            # Start the break\n",
    "            mins2, secs2 = divmod(t2, 60)\n",
    "            timer2 = '{:02d}:{:02d}'.format(mins2, secs2)\n",
    "            st.subheader(f\"⏳ Waktu tersisa {timer2}\")\n",
    "            time.sleep(1)\n",
    "            t2 -= 1\n",
    "            st.error(\"⏰ 5 minute break is over!\")\n",
    "            \n",
    "    \n",
    "if mulai:\n",
    "    if musik == 'Lo-fi Jazz':\n",
    "        st.audio('jazz.wav')\n",
    "    elif musik == 'Lo-fi Cool':\n",
    "        st.audio('cool.wav')  \n",
    "    st.subheader(tugas)\n",
    "    st.write('''*Tetaplah fokus hingga timer selesai!*''')\n",
    "    timer(t1, t2)\n",
    "\n",
    "\n",
    "\n",
    "st.markdown('''\n",
    "## Apa itu *pomodoro* ?\n",
    "Teknik Pomodoro adalah teknik pengaturan waktu yang telah diperkenalkan pada akhir tahun 1980 oleh Fransisco Cirillo. \n",
    "Pomodoro sendiri dalam Bahasa Spanyol artinya tomat, Cirillo saat masih menjadi mahasiswa menggunakan kitchen timer berbentuk tomat\n",
    "sebagai pengatur waktu saat belajar.\n",
    "''')\n",
    "\n",
    "st.markdown('''\n",
    "## Cara Menerapkan Teknik Pomodoro\n",
    "1. Jauhi distraksi dan siapkan materi yang harus dipelajari\n",
    "2. Tentukan waktu dan mulai fokus untuk beraktivitas\n",
    "3. Lakukan kegiatan yang menyenangkan saat istirahat\n",
    "4. Ulangi teknik di atas hingga empat kali\n",
    "''')"
   ]
  }
 ],
 "metadata": {
  "kernelspec": {
   "display_name": "Python 3 (ipykernel)",
   "language": "python",
   "name": "python3"
  },
  "language_info": {
   "codemirror_mode": {
    "name": "ipython",
    "version": 3
   },
   "file_extension": ".py",
   "mimetype": "text/x-python",
   "name": "python",
   "nbconvert_exporter": "python",
   "pygments_lexer": "ipython3",
   "version": "3.9.5"
  }
 },
 "nbformat": 4,
 "nbformat_minor": 5
}
